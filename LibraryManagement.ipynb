{
  "nbformat": 4,
  "nbformat_minor": 0,
  "metadata": {
    "colab": {
      "provenance": [],
      "include_colab_link": true
    },
    "kernelspec": {
      "name": "python3",
      "display_name": "Python 3"
    },
    "language_info": {
      "name": "python"
    }
  },
  "cells": [
    {
      "cell_type": "markdown",
      "metadata": {
        "id": "view-in-github",
        "colab_type": "text"
      },
      "source": [
        "<a href=\"https://colab.research.google.com/github/dushyantsharma460/Competitive-Programming-Project-Sem1/blob/main/LibraryManagement.ipynb\" target=\"_parent\"><img src=\"https://colab.research.google.com/assets/colab-badge.svg\" alt=\"Open In Colab\"/></a>"
      ]
    },
    {
      "cell_type": "code",
      "execution_count": null,
      "metadata": {
        "colab": {
          "base_uri": "https://localhost:8080/"
        },
        "id": "aipowNxgpA1V",
        "outputId": "be534286-466c-48f2-fa22-f20e0e297f07"
      },
      "outputs": [
        {
          "output_type": "stream",
          "name": "stdout",
          "text": [
            "Catalog:\n",
            "ID: 786, Title: Book1, Author: MyFutureGF, Available: 5\n",
            "ID: 132, Title: Book2, Author: MyFutureWife, Available: 3\n",
            "ID: 216, Title: Book3, Author: MyFutureSon, Available: 2\n",
            "Book returned successfully.\n"
          ]
        }
      ],
      "source": [
        "import datetime\n",
        "\n",
        "class Book:\n",
        "    def __init__(self, BookId, title, author, quantity):\n",
        "        self.BookId = BookId\n",
        "        self.title = title\n",
        "        self.author = author\n",
        "        self.quantity = quantity\n",
        "\n",
        "class User:\n",
        "    def __init__(self, UserId, name):\n",
        "        self.UserId = UserId\n",
        "        self.name = name\n",
        "        self.BooksCheckedout = []\n",
        "\n",
        "class Library:\n",
        "    def __init__(self):\n",
        "        self.catalog = {}\n",
        "        self.users = {}\n",
        "        self.transactions = {}\n",
        "\n",
        "    def AddBook(self, BookId, title, author, quantity):\n",
        "        self.catalog[BookId] = Book(BookId, title, author, quantity)\n",
        "\n",
        "    def RegisterUser(self, UserId, name):\n",
        "        self.users[UserId] = User(UserId, name)\n",
        "\n",
        "    def DisplayCatalog(self):\n",
        "        print(\"Catalog:\")\n",
        "        for BookId, book in self.catalog.items():\n",
        "            print(f\"ID: {book.BookId}, Title: {book.title}, Author: {book.author}, Available: {book.quantity}\")\n",
        "\n",
        "    def CheckoutBook(self, UserId, BookId):\n",
        "        if BookId not in self.catalog:\n",
        "            print(\"Book is not found\")\n",
        "            return\n",
        "        if len(self.users[UserId].BooksCheckedout) >= 3:\n",
        "            print(\"User's checked out limit reached\")\n",
        "            return\n",
        "        if self.catalog[BookId].quantity <= 0:\n",
        "            print(\"Book not available\")\n",
        "            return\n",
        "\n",
        "        self.catalog[BookId].quantity -= 1\n",
        "        self.users[UserId].BooksCheckedout.append(BookId)\n",
        "        self.transactions[(UserId, BookId)] = datetime.datetime.now()\n",
        "\n",
        "    def ReturnBook(self, UserId, BookId):\n",
        "    \tif BookId not in self.catalog:\n",
        "        \tprint(\"Book not found.\")\n",
        "        \treturn\n",
        "    \tif BookId not in self.users[UserId].BooksCheckedout:\n",
        "        \tprint(\"Book not checked out by the user.\")\n",
        "        \treturn\n",
        "\n",
        "    \tself.catalog[BookId].quantity += 1\n",
        "    \tself.users[UserId].BooksCheckedout.remove(BookId)\n",
        "    \tcheckout_date = self.transactions[(UserId, BookId)]\n",
        "    \tdue_date = checkout_date + datetime.timedelta(days=14)\n",
        "    \tif datetime.datetime.now() > due_date:\n",
        "        \tdays_overdue = (datetime.datetime.now() - due_date).days\n",
        "        \tfine = days_overdue\n",
        "        \tprint(f\"Fine for overdue: ${fine}\")\n",
        "    \tprint(\"Book returned successfully.\")\n",
        "\n",
        "\n",
        "library = Library()\n",
        "library.AddBook('786', 'Book1', 'MyFutureGF', 5)\n",
        "library.AddBook('132', 'Book2', 'MyFutureWife', 3)\n",
        "library.AddBook('216', 'Book3', 'MyFutureSon', 2)\n",
        "\n",
        "library.RegisterUser('786', 'Rohit')\n",
        "\n",
        "library.DisplayCatalog()\n",
        "\n",
        "library.CheckoutBook('786', '786')\n",
        "library.ReturnBook('786', '786')\n",
        "library.CheckoutBook('786', '786')\n",
        "library.CheckoutBook('786', '132')\n",
        "library.CheckoutBook('786', '216')"
      ]
    }
  ]
}